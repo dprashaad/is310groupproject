{
 "cells": [
  {
   "cell_type": "code",
   "execution_count": null,
   "metadata": {},
   "outputs": [],
   "source": []
  },
  {
   "cell_type": "code",
   "execution_count": 1,
   "metadata": {},
   "outputs": [],
   "source": [
    "import twint\n",
    "import pandas as pd\n",
    "import matplotlib.pyplot as plt"
   ]
  },
  {
   "cell_type": "code",
   "execution_count": 39,
   "metadata": {},
   "outputs": [],
   "source": [
    "from matplotlib import pyplot as plt"
   ]
  },
  {
   "cell_type": "code",
   "execution_count": 3,
   "metadata": {},
   "outputs": [
    {
     "ename": "ModuleNotFoundError",
     "evalue": "No module named 'seaborn'",
     "output_type": "error",
     "traceback": [
      "\u001b[0;31m---------------------------------------------------------------------------\u001b[0m",
      "\u001b[0;31mModuleNotFoundError\u001b[0m                       Traceback (most recent call last)",
      "Input \u001b[0;32mIn [3]\u001b[0m, in \u001b[0;36m<cell line: 1>\u001b[0;34m()\u001b[0m\n\u001b[0;32m----> 1\u001b[0m \u001b[38;5;28;01mimport\u001b[39;00m \u001b[38;5;21;01mseaborn\u001b[39;00m \u001b[38;5;28;01mas\u001b[39;00m \u001b[38;5;21;01msns\u001b[39;00m\n",
      "\u001b[0;31mModuleNotFoundError\u001b[0m: No module named 'seaborn'"
     ]
    }
   ],
   "source": [
    "import seaborn as sns"
   ]
  },
  {
   "cell_type": "code",
   "execution_count": 7,
   "metadata": {},
   "outputs": [],
   "source": [
    "import nest_asyncio\n",
    "nest_asyncio.apply()"
   ]
  },
  {
   "cell_type": "code",
   "execution_count": 8,
   "metadata": {},
   "outputs": [],
   "source": [
    "import nest_asyncio\n",
    "nest_asyncio.apply()\n",
    "c = twint.Config()\n",
    "c.Search = \"Struck Joss Stirling\"\n",
    "c.Limit = 1000\n",
    "c.Pandas = True\n",
    "\n",
    "c.Hide_output = True\n",
    "\n",
    "twint.run.Search(c)\n",
    "\n",
    "df = twint.storage.panda.Tweets_df\n",
    "df.head(10)"
   ]
  },
  {
   "cell_type": "code",
   "execution_count": 9,
   "metadata": {},
   "outputs": [
    {
     "name": "stdout",
     "output_type": "stream",
     "text": [
      "[!] No more data! Scraping will stop now.\n",
      "found 0 deleted tweets in this search.\n"
     ]
    }
   ],
   "source": [
    "twint.run.Search(c)"
   ]
  },
  {
   "cell_type": "code",
   "execution_count": 10,
   "metadata": {},
   "outputs": [
    {
     "data": {
      "text/html": [
       "<div>\n",
       "<style scoped>\n",
       "    .dataframe tbody tr th:only-of-type {\n",
       "        vertical-align: middle;\n",
       "    }\n",
       "\n",
       "    .dataframe tbody tr th {\n",
       "        vertical-align: top;\n",
       "    }\n",
       "\n",
       "    .dataframe thead th {\n",
       "        text-align: right;\n",
       "    }\n",
       "</style>\n",
       "<table border=\"1\" class=\"dataframe\">\n",
       "  <thead>\n",
       "    <tr style=\"text-align: right;\">\n",
       "      <th></th>\n",
       "    </tr>\n",
       "  </thead>\n",
       "  <tbody>\n",
       "  </tbody>\n",
       "</table>\n",
       "</div>"
      ],
      "text/plain": [
       "Empty DataFrame\n",
       "Columns: []\n",
       "Index: []"
      ]
     },
     "execution_count": 10,
     "metadata": {},
     "output_type": "execute_result"
    }
   ],
   "source": [
    "df = twint.storage.panda.Tweets_df\n",
    "df.head(10)"
   ]
  },
  {
   "cell_type": "code",
   "execution_count": 11,
   "metadata": {},
   "outputs": [],
   "source": [
    "import pandas as pd"
   ]
  },
  {
   "cell_type": "code",
   "execution_count": 12,
   "metadata": {},
   "outputs": [],
   "source": [
    "#df_new = pd.read_json('tweets.json' , lines = True)\n",
    "#df['date'].value_counts().plot()\n",
    "#df_new.head()"
   ]
  },
  {
   "cell_type": "code",
   "execution_count": 13,
   "metadata": {},
   "outputs": [
    {
     "name": "stdout",
     "output_type": "stream",
     "text": [
      "<class 'pandas.core.frame.DataFrame'>\n",
      "Index: 0 entries\n",
      "Empty DataFrame"
     ]
    }
   ],
   "source": [
    "df.info()"
   ]
  },
  {
   "cell_type": "code",
   "execution_count": 14,
   "metadata": {},
   "outputs": [],
   "source": [
    "import matplotlib.pyplot as plt"
   ]
  },
  {
   "cell_type": "code",
   "execution_count": 15,
   "metadata": {},
   "outputs": [],
   "source": [
    "%matplotlib inline"
   ]
  },
  {
   "cell_type": "code",
   "execution_count": 16,
   "metadata": {},
   "outputs": [
    {
     "ename": "AttributeError",
     "evalue": "'DataFrame' object has no attribute 'tweet'",
     "output_type": "error",
     "traceback": [
      "\u001b[0;31m---------------------------------------------------------------------------\u001b[0m",
      "\u001b[0;31mAttributeError\u001b[0m                            Traceback (most recent call last)",
      "Input \u001b[0;32mIn [16]\u001b[0m, in \u001b[0;36m<cell line: 1>\u001b[0;34m()\u001b[0m\n\u001b[0;32m----> 1\u001b[0m \u001b[43mdf\u001b[49m\u001b[38;5;241;43m.\u001b[39;49m\u001b[43mtweet\u001b[49m\u001b[38;5;241m.\u001b[39mstr\u001b[38;5;241m.\u001b[39mcontains(\u001b[38;5;124mr\u001b[39m\u001b[38;5;124m'\u001b[39m\u001b[38;5;124m5 of 5\u001b[39m\u001b[38;5;124m'\u001b[39m)\u001b[38;5;241m.\u001b[39msum()\n",
      "File \u001b[0;32m~/virtenv/is310-venv/lib/python3.8/site-packages/pandas/core/generic.py:5575\u001b[0m, in \u001b[0;36mNDFrame.__getattr__\u001b[0;34m(self, name)\u001b[0m\n\u001b[1;32m   5568\u001b[0m \u001b[38;5;28;01mif\u001b[39;00m (\n\u001b[1;32m   5569\u001b[0m     name \u001b[38;5;129;01mnot\u001b[39;00m \u001b[38;5;129;01min\u001b[39;00m \u001b[38;5;28mself\u001b[39m\u001b[38;5;241m.\u001b[39m_internal_names_set\n\u001b[1;32m   5570\u001b[0m     \u001b[38;5;129;01mand\u001b[39;00m name \u001b[38;5;129;01mnot\u001b[39;00m \u001b[38;5;129;01min\u001b[39;00m \u001b[38;5;28mself\u001b[39m\u001b[38;5;241m.\u001b[39m_metadata\n\u001b[1;32m   5571\u001b[0m     \u001b[38;5;129;01mand\u001b[39;00m name \u001b[38;5;129;01mnot\u001b[39;00m \u001b[38;5;129;01min\u001b[39;00m \u001b[38;5;28mself\u001b[39m\u001b[38;5;241m.\u001b[39m_accessors\n\u001b[1;32m   5572\u001b[0m     \u001b[38;5;129;01mand\u001b[39;00m \u001b[38;5;28mself\u001b[39m\u001b[38;5;241m.\u001b[39m_info_axis\u001b[38;5;241m.\u001b[39m_can_hold_identifiers_and_holds_name(name)\n\u001b[1;32m   5573\u001b[0m ):\n\u001b[1;32m   5574\u001b[0m     \u001b[38;5;28;01mreturn\u001b[39;00m \u001b[38;5;28mself\u001b[39m[name]\n\u001b[0;32m-> 5575\u001b[0m \u001b[38;5;28;01mreturn\u001b[39;00m \u001b[38;5;28;43mobject\u001b[39;49m\u001b[38;5;241;43m.\u001b[39;49m\u001b[38;5;21;43m__getattribute__\u001b[39;49m\u001b[43m(\u001b[49m\u001b[38;5;28;43mself\u001b[39;49m\u001b[43m,\u001b[49m\u001b[43m \u001b[49m\u001b[43mname\u001b[49m\u001b[43m)\u001b[49m\n",
      "\u001b[0;31mAttributeError\u001b[0m: 'DataFrame' object has no attribute 'tweet'"
     ]
    }
   ],
   "source": [
    "df.tweet.str.contains(r'5 of 5').sum()"
   ]
  },
  {
   "cell_type": "code",
   "execution_count": null,
   "metadata": {},
   "outputs": [],
   "source": [
    "df['language'].value_counts().plot()"
   ]
  },
  {
   "cell_type": "code",
   "execution_count": 17,
   "metadata": {},
   "outputs": [],
   "source": [
    "#c.Since = '2016-11-01'\n",
    "#c.Until = '2017-01-01'"
   ]
  },
  {
   "cell_type": "code",
   "execution_count": null,
   "metadata": {},
   "outputs": [],
   "source": []
  },
  {
   "cell_type": "code",
   "execution_count": 18,
   "metadata": {},
   "outputs": [],
   "source": [
    "#!install node-sqlite3"
   ]
  },
  {
   "cell_type": "code",
   "execution_count": 19,
   "metadata": {},
   "outputs": [
    {
     "data": {
      "text/html": [
       "<div>\n",
       "<style scoped>\n",
       "    .dataframe tbody tr th:only-of-type {\n",
       "        vertical-align: middle;\n",
       "    }\n",
       "\n",
       "    .dataframe tbody tr th {\n",
       "        vertical-align: top;\n",
       "    }\n",
       "\n",
       "    .dataframe thead th {\n",
       "        text-align: right;\n",
       "    }\n",
       "</style>\n",
       "<table border=\"1\" class=\"dataframe\">\n",
       "  <thead>\n",
       "    <tr style=\"text-align: right;\">\n",
       "      <th></th>\n",
       "      <th>BookTitle</th>\n",
       "      <th>1_Stars</th>\n",
       "      <th>2_Stars</th>\n",
       "      <th>3_Stars</th>\n",
       "      <th>4_Stars</th>\n",
       "      <th>5_Stars</th>\n",
       "      <th>Amazon_Best_Sellers_Rank_in_Books</th>\n",
       "    </tr>\n",
       "  </thead>\n",
       "  <tbody>\n",
       "    <tr>\n",
       "      <th>0</th>\n",
       "      <td>ThisLove</td>\n",
       "      <td>1</td>\n",
       "      <td>0</td>\n",
       "      <td>1</td>\n",
       "      <td>1</td>\n",
       "      <td>5</td>\n",
       "      <td>1575630</td>\n",
       "    </tr>\n",
       "    <tr>\n",
       "      <th>1</th>\n",
       "      <td>LoveSong</td>\n",
       "      <td>0</td>\n",
       "      <td>1</td>\n",
       "      <td>1</td>\n",
       "      <td>5</td>\n",
       "      <td>6</td>\n",
       "      <td>3644709</td>\n",
       "    </tr>\n",
       "    <tr>\n",
       "      <th>2</th>\n",
       "      <td>Letters_to_the_Lost</td>\n",
       "      <td>0</td>\n",
       "      <td>0</td>\n",
       "      <td>0</td>\n",
       "      <td>1</td>\n",
       "      <td>1</td>\n",
       "      <td>1213247</td>\n",
       "    </tr>\n",
       "    <tr>\n",
       "      <th>3</th>\n",
       "      <td>Struck</td>\n",
       "      <td>0</td>\n",
       "      <td>0</td>\n",
       "      <td>0</td>\n",
       "      <td>1</td>\n",
       "      <td>0</td>\n",
       "      <td>6451288</td>\n",
       "    </tr>\n",
       "    <tr>\n",
       "      <th>4</th>\n",
       "      <td>A_Night_on_the_Orient_Express</td>\n",
       "      <td>0</td>\n",
       "      <td>0</td>\n",
       "      <td>0</td>\n",
       "      <td>0</td>\n",
       "      <td>0</td>\n",
       "      <td>994679</td>\n",
       "    </tr>\n",
       "  </tbody>\n",
       "</table>\n",
       "</div>"
      ],
      "text/plain": [
       "                       BookTitle  1_Stars  2_Stars  3_Stars  4_Stars  5_Stars  \\\n",
       "0                       ThisLove        1        0        1        1        5   \n",
       "1                       LoveSong        0        1        1        5        6   \n",
       "2            Letters_to_the_Lost        0        0        0        1        1   \n",
       "3                         Struck        0        0        0        1        0   \n",
       "4  A_Night_on_the_Orient_Express        0        0        0        0        0   \n",
       "\n",
       "   Amazon_Best_Sellers_Rank_in_Books  \n",
       "0                            1575630  \n",
       "1                            3644709  \n",
       "2                            1213247  \n",
       "3                            6451288  \n",
       "4                             994679  "
      ]
     },
     "execution_count": 19,
     "metadata": {},
     "output_type": "execute_result"
    }
   ],
   "source": [
    "df = pd.read_csv('RomanceNovelStars.csv')\n",
    "df.head()"
   ]
  },
  {
   "cell_type": "code",
   "execution_count": 20,
   "metadata": {},
   "outputs": [
    {
     "data": {
      "text/html": [
       "<div>\n",
       "<style scoped>\n",
       "    .dataframe tbody tr th:only-of-type {\n",
       "        vertical-align: middle;\n",
       "    }\n",
       "\n",
       "    .dataframe tbody tr th {\n",
       "        vertical-align: top;\n",
       "    }\n",
       "\n",
       "    .dataframe thead th {\n",
       "        text-align: right;\n",
       "    }\n",
       "</style>\n",
       "<table border=\"1\" class=\"dataframe\">\n",
       "  <thead>\n",
       "    <tr style=\"text-align: right;\">\n",
       "      <th></th>\n",
       "      <th>Year</th>\n",
       "      <th>Title</th>\n",
       "      <th>Author</th>\n",
       "      <th>Amazon_Best_Sellers_Rank_in_Books</th>\n",
       "    </tr>\n",
       "  </thead>\n",
       "  <tbody>\n",
       "    <tr>\n",
       "      <th>0</th>\n",
       "      <td>2018</td>\n",
       "      <td>This Love</td>\n",
       "      <td>Dani Atkins</td>\n",
       "      <td>1575630.0</td>\n",
       "    </tr>\n",
       "    <tr>\n",
       "      <th>1</th>\n",
       "      <td>2017</td>\n",
       "      <td>Love Song</td>\n",
       "      <td>Sophia Bennett</td>\n",
       "      <td>3644709.0</td>\n",
       "    </tr>\n",
       "    <tr>\n",
       "      <th>2</th>\n",
       "      <td>2016</td>\n",
       "      <td>Letters to the Lost</td>\n",
       "      <td>Iona Grey</td>\n",
       "      <td>1213247.0</td>\n",
       "    </tr>\n",
       "    <tr>\n",
       "      <th>3</th>\n",
       "      <td>2015</td>\n",
       "      <td>Struck</td>\n",
       "      <td>Joss Stirling</td>\n",
       "      <td>6451288.0</td>\n",
       "    </tr>\n",
       "    <tr>\n",
       "      <th>4</th>\n",
       "      <td>2014</td>\n",
       "      <td>A Night on The Orient Express</td>\n",
       "      <td>Veronica Henry</td>\n",
       "      <td>994679.0</td>\n",
       "    </tr>\n",
       "  </tbody>\n",
       "</table>\n",
       "</div>"
      ],
      "text/plain": [
       "   Year                          Title           Author  \\\n",
       "0  2018                      This Love      Dani Atkins   \n",
       "1  2017                      Love Song   Sophia Bennett   \n",
       "2  2016            Letters to the Lost        Iona Grey   \n",
       "3  2015                         Struck    Joss Stirling   \n",
       "4  2014  A Night on The Orient Express   Veronica Henry   \n",
       "\n",
       "   Amazon_Best_Sellers_Rank_in_Books  \n",
       "0                          1575630.0  \n",
       "1                          3644709.0  \n",
       "2                          1213247.0  \n",
       "3                          6451288.0  \n",
       "4                           994679.0  "
      ]
     },
     "execution_count": 20,
     "metadata": {},
     "output_type": "execute_result"
    }
   ],
   "source": [
    "books = pd.read_csv('listofbooks.csv')\n",
    "books.head()"
   ]
  },
  {
   "cell_type": "code",
   "execution_count": 21,
   "metadata": {},
   "outputs": [
    {
     "data": {
      "text/html": [
       "<div>\n",
       "<style scoped>\n",
       "    .dataframe tbody tr th:only-of-type {\n",
       "        vertical-align: middle;\n",
       "    }\n",
       "\n",
       "    .dataframe tbody tr th {\n",
       "        vertical-align: top;\n",
       "    }\n",
       "\n",
       "    .dataframe thead th {\n",
       "        text-align: right;\n",
       "    }\n",
       "</style>\n",
       "<table border=\"1\" class=\"dataframe\">\n",
       "  <thead>\n",
       "    <tr style=\"text-align: right;\">\n",
       "      <th></th>\n",
       "      <th>5_Stars</th>\n",
       "      <th>Amazon_Best_Sellers_Rank_in_Books</th>\n",
       "    </tr>\n",
       "  </thead>\n",
       "  <tbody>\n",
       "    <tr>\n",
       "      <th>0</th>\n",
       "      <td>5</td>\n",
       "      <td>1575630</td>\n",
       "    </tr>\n",
       "    <tr>\n",
       "      <th>1</th>\n",
       "      <td>6</td>\n",
       "      <td>3644709</td>\n",
       "    </tr>\n",
       "    <tr>\n",
       "      <th>2</th>\n",
       "      <td>1</td>\n",
       "      <td>1213247</td>\n",
       "    </tr>\n",
       "    <tr>\n",
       "      <th>3</th>\n",
       "      <td>0</td>\n",
       "      <td>6451288</td>\n",
       "    </tr>\n",
       "    <tr>\n",
       "      <th>4</th>\n",
       "      <td>0</td>\n",
       "      <td>994679</td>\n",
       "    </tr>\n",
       "  </tbody>\n",
       "</table>\n",
       "</div>"
      ],
      "text/plain": [
       "   5_Stars  Amazon_Best_Sellers_Rank_in_Books\n",
       "0        5                            1575630\n",
       "1        6                            3644709\n",
       "2        1                            1213247\n",
       "3        0                            6451288\n",
       "4        0                             994679"
      ]
     },
     "execution_count": 21,
     "metadata": {},
     "output_type": "execute_result"
    }
   ],
   "source": [
    "stars_amazon_rank = df.iloc[:, 5:7]\n",
    "stars_amazon_rank.head()"
   ]
  },
  {
   "cell_type": "code",
   "execution_count": 22,
   "metadata": {},
   "outputs": [
    {
     "data": {
      "text/plain": [
       "<AxesSubplot:ylabel='5_Stars'>"
      ]
     },
     "execution_count": 22,
     "metadata": {},
     "output_type": "execute_result"
    },
    {
     "data": {
      "image/png": "[encoded data removed]",
      "text/plain": [
       "<Figure size 360x360 with 1 Axes>"
      ]
     },
     "metadata": {},
     "output_type": "display_data"
    }
   ],
   "source": [
    "df.plot.pie(y='5_Stars', figsize=(5, 5))"
   ]
  },
  {
   "cell_type": "code",
   "execution_count": 23,
   "metadata": {},
   "outputs": [
    {
     "data": {
      "image/png": "[encoded data removed]",
      "text/plain": [
       "<Figure size 432x288 with 1 Axes>"
      ]
     },
     "metadata": {
      "needs_background": "light"
     },
     "output_type": "display_data"
    }
   ],
   "source": [
    "df.plot.scatter(x='BookTitle',\n",
    "                y='5_Stars')\n",
    "plt.xlabel('Romantic Novelist Association Winners 2013-2018')\n",
    "plt.ylabel('Frequency of 5 Stars')\n",
    "plt.title('Frequency of 5 Star Reviews Amongst RNA Winners')\n",
    "plt.show()"
   ]
  },
  {
   "cell_type": "code",
   "execution_count": null,
   "metadata": {},
   "outputs": [],
   "source": []
  },
  {
   "cell_type": "code",
   "execution_count": null,
   "metadata": {},
   "outputs": [],
   "source": []
  },
  {
   "cell_type": "code",
   "execution_count": 24,
   "metadata": {},
   "outputs": [
    {
     "data": {
      "image/png": "[encoded data removed]",
      "text/plain": [
       "<Figure size 432x288 with 1 Axes>"
      ]
     },
     "metadata": {
      "needs_background": "light"
     },
     "output_type": "display_data"
    }
   ],
   "source": [
    "stars_amazon_rank.plot.scatter(x = '5_Stars', y='Amazon_Best_Sellers_Rank_in_Books')\n",
    "plt.show()"
   ]
  },
  {
   "cell_type": "code",
   "execution_count": 25,
   "metadata": {},
   "outputs": [
    {
     "data": {
      "text/html": [
       "<div>\n",
       "<style scoped>\n",
       "    .dataframe tbody tr th:only-of-type {\n",
       "        vertical-align: middle;\n",
       "    }\n",
       "\n",
       "    .dataframe tbody tr th {\n",
       "        vertical-align: top;\n",
       "    }\n",
       "\n",
       "    .dataframe thead th {\n",
       "        text-align: right;\n",
       "    }\n",
       "</style>\n",
       "<table border=\"1\" class=\"dataframe\">\n",
       "  <thead>\n",
       "    <tr style=\"text-align: right;\">\n",
       "      <th></th>\n",
       "      <th>5_Stars</th>\n",
       "      <th>Amazon_Best_Sellers_Rank_in_Books</th>\n",
       "    </tr>\n",
       "  </thead>\n",
       "  <tbody>\n",
       "    <tr>\n",
       "      <th>0</th>\n",
       "      <td>5</td>\n",
       "      <td>1575630</td>\n",
       "    </tr>\n",
       "    <tr>\n",
       "      <th>1</th>\n",
       "      <td>6</td>\n",
       "      <td>3644709</td>\n",
       "    </tr>\n",
       "    <tr>\n",
       "      <th>2</th>\n",
       "      <td>1</td>\n",
       "      <td>1213247</td>\n",
       "    </tr>\n",
       "    <tr>\n",
       "      <th>3</th>\n",
       "      <td>0</td>\n",
       "      <td>6451288</td>\n",
       "    </tr>\n",
       "    <tr>\n",
       "      <th>4</th>\n",
       "      <td>0</td>\n",
       "      <td>994679</td>\n",
       "    </tr>\n",
       "    <tr>\n",
       "      <th>5</th>\n",
       "      <td>0</td>\n",
       "      <td>170712</td>\n",
       "    </tr>\n",
       "    <tr>\n",
       "      <th>6</th>\n",
       "      <td>0</td>\n",
       "      <td>6991936</td>\n",
       "    </tr>\n",
       "  </tbody>\n",
       "</table>\n",
       "</div>"
      ],
      "text/plain": [
       "   5_Stars  Amazon_Best_Sellers_Rank_in_Books\n",
       "0        5                            1575630\n",
       "1        6                            3644709\n",
       "2        1                            1213247\n",
       "3        0                            6451288\n",
       "4        0                             994679\n",
       "5        0                             170712\n",
       "6        0                            6991936"
      ]
     },
     "execution_count": 25,
     "metadata": {},
     "output_type": "execute_result"
    }
   ],
   "source": [
    "stars_amazon_rank"
   ]
  },
  {
   "cell_type": "code",
   "execution_count": 26,
   "metadata": {},
   "outputs": [
    {
     "data": {
      "text/html": [
       "<div>\n",
       "<style scoped>\n",
       "    .dataframe tbody tr th:only-of-type {\n",
       "        vertical-align: middle;\n",
       "    }\n",
       "\n",
       "    .dataframe tbody tr th {\n",
       "        vertical-align: top;\n",
       "    }\n",
       "\n",
       "    .dataframe thead th {\n",
       "        text-align: right;\n",
       "    }\n",
       "</style>\n",
       "<table border=\"1\" class=\"dataframe\">\n",
       "  <thead>\n",
       "    <tr style=\"text-align: right;\">\n",
       "      <th></th>\n",
       "      <th>Year</th>\n",
       "      <th>Title</th>\n",
       "      <th>Author</th>\n",
       "      <th>Amazon_Best_Sellers_Rank_in_Books</th>\n",
       "    </tr>\n",
       "  </thead>\n",
       "  <tbody>\n",
       "    <tr>\n",
       "      <th>0</th>\n",
       "      <td>2018</td>\n",
       "      <td>This Love</td>\n",
       "      <td>Dani Atkins</td>\n",
       "      <td>1575630.0</td>\n",
       "    </tr>\n",
       "    <tr>\n",
       "      <th>1</th>\n",
       "      <td>2017</td>\n",
       "      <td>Love Song</td>\n",
       "      <td>Sophia Bennett</td>\n",
       "      <td>3644709.0</td>\n",
       "    </tr>\n",
       "    <tr>\n",
       "      <th>2</th>\n",
       "      <td>2016</td>\n",
       "      <td>Letters to the Lost</td>\n",
       "      <td>Iona Grey</td>\n",
       "      <td>1213247.0</td>\n",
       "    </tr>\n",
       "    <tr>\n",
       "      <th>3</th>\n",
       "      <td>2015</td>\n",
       "      <td>Struck</td>\n",
       "      <td>Joss Stirling</td>\n",
       "      <td>6451288.0</td>\n",
       "    </tr>\n",
       "    <tr>\n",
       "      <th>4</th>\n",
       "      <td>2014</td>\n",
       "      <td>A Night on The Orient Express</td>\n",
       "      <td>Veronica Henry</td>\n",
       "      <td>994679.0</td>\n",
       "    </tr>\n",
       "  </tbody>\n",
       "</table>\n",
       "</div>"
      ],
      "text/plain": [
       "   Year                          Title           Author  \\\n",
       "0  2018                      This Love      Dani Atkins   \n",
       "1  2017                      Love Song   Sophia Bennett   \n",
       "2  2016            Letters to the Lost        Iona Grey   \n",
       "3  2015                         Struck    Joss Stirling   \n",
       "4  2014  A Night on The Orient Express   Veronica Henry   \n",
       "\n",
       "   Amazon_Best_Sellers_Rank_in_Books  \n",
       "0                          1575630.0  \n",
       "1                          3644709.0  \n",
       "2                          1213247.0  \n",
       "3                          6451288.0  \n",
       "4                           994679.0  "
      ]
     },
     "execution_count": 26,
     "metadata": {},
     "output_type": "execute_result"
    }
   ],
   "source": [
    "df_books = pd.read_csv('listofbooks.csv', na_values =['N/A'])\n",
    "df_books = df_books.dropna()"
   ]
  },
  {
   "cell_type": "code",
   "execution_count": 27,
   "metadata": {},
   "outputs": [
    {
     "data": {
      "text/html": [
       "<div>\n",
       "<style scoped>\n",
       "    .dataframe tbody tr th:only-of-type {\n",
       "        vertical-align: middle;\n",
       "    }\n",
       "\n",
       "    .dataframe tbody tr th {\n",
       "        vertical-align: top;\n",
       "    }\n",
       "\n",
       "    .dataframe thead th {\n",
       "        text-align: right;\n",
       "    }\n",
       "</style>\n",
       "<table border=\"1\" class=\"dataframe\">\n",
       "  <thead>\n",
       "    <tr style=\"text-align: right;\">\n",
       "      <th></th>\n",
       "      <th>Year</th>\n",
       "      <th>Title</th>\n",
       "      <th>Author</th>\n",
       "      <th>Amazon_Best_Sellers_Rank_in_Books</th>\n",
       "    </tr>\n",
       "  </thead>\n",
       "  <tbody>\n",
       "    <tr>\n",
       "      <th>0</th>\n",
       "      <td>2018</td>\n",
       "      <td>This Love</td>\n",
       "      <td>Dani Atkins</td>\n",
       "      <td>1575630.0</td>\n",
       "    </tr>\n",
       "    <tr>\n",
       "      <th>1</th>\n",
       "      <td>2017</td>\n",
       "      <td>Love Song</td>\n",
       "      <td>Sophia Bennett</td>\n",
       "      <td>3644709.0</td>\n",
       "    </tr>\n",
       "    <tr>\n",
       "      <th>2</th>\n",
       "      <td>2016</td>\n",
       "      <td>Letters to the Lost</td>\n",
       "      <td>Iona Grey</td>\n",
       "      <td>1213247.0</td>\n",
       "    </tr>\n",
       "    <tr>\n",
       "      <th>3</th>\n",
       "      <td>2015</td>\n",
       "      <td>Struck</td>\n",
       "      <td>Joss Stirling</td>\n",
       "      <td>6451288.0</td>\n",
       "    </tr>\n",
       "    <tr>\n",
       "      <th>4</th>\n",
       "      <td>2014</td>\n",
       "      <td>A Night on The Orient Express</td>\n",
       "      <td>Veronica Henry</td>\n",
       "      <td>994679.0</td>\n",
       "    </tr>\n",
       "    <tr>\n",
       "      <th>5</th>\n",
       "      <td>2013</td>\n",
       "      <td>Welcome to Rosie Hopkin's Sweetshop of Dreams</td>\n",
       "      <td>Jenny Colgan</td>\n",
       "      <td>170712.0</td>\n",
       "    </tr>\n",
       "    <tr>\n",
       "      <th>6</th>\n",
       "      <td>2012</td>\n",
       "      <td>Please Don't Stop The Music</td>\n",
       "      <td>Jane Lovering</td>\n",
       "      <td>6991936.0</td>\n",
       "    </tr>\n",
       "    <tr>\n",
       "      <th>7</th>\n",
       "      <td>2011</td>\n",
       "      <td>The Last Letter From Your Lover</td>\n",
       "      <td>Jojo Moyes</td>\n",
       "      <td>24172.0</td>\n",
       "    </tr>\n",
       "    <tr>\n",
       "      <th>8</th>\n",
       "      <td>2010</td>\n",
       "      <td>Lost Dogs and Lonely Hearts</td>\n",
       "      <td>Lucy Dillon</td>\n",
       "      <td>1916757.0</td>\n",
       "    </tr>\n",
       "    <tr>\n",
       "      <th>9</th>\n",
       "      <td>2009</td>\n",
       "      <td>East of the Sun</td>\n",
       "      <td>Julia Gregson</td>\n",
       "      <td>586184.0</td>\n",
       "    </tr>\n",
       "    <tr>\n",
       "      <th>10</th>\n",
       "      <td>2008</td>\n",
       "      <td>Pillow Talk</td>\n",
       "      <td>Freya North</td>\n",
       "      <td>0.0</td>\n",
       "    </tr>\n",
       "    <tr>\n",
       "      <th>11</th>\n",
       "      <td>2007</td>\n",
       "      <td>Iris &amp; Ruby</td>\n",
       "      <td>Rosie Thomas</td>\n",
       "      <td>1140912.0</td>\n",
       "    </tr>\n",
       "    <tr>\n",
       "      <th>12</th>\n",
       "      <td>2006</td>\n",
       "      <td>Gardens of Delight</td>\n",
       "      <td>Erica James</td>\n",
       "      <td>2329744.0</td>\n",
       "    </tr>\n",
       "    <tr>\n",
       "      <th>14</th>\n",
       "      <td>2004</td>\n",
       "      <td>Foreign Fruit</td>\n",
       "      <td>Jojo Moyes</td>\n",
       "      <td>1037547.0</td>\n",
       "    </tr>\n",
       "    <tr>\n",
       "      <th>15</th>\n",
       "      <td>2003</td>\n",
       "      <td>Playing James</td>\n",
       "      <td>Sarah Mason</td>\n",
       "      <td>2407039.0</td>\n",
       "    </tr>\n",
       "    <tr>\n",
       "      <th>16</th>\n",
       "      <td>2002</td>\n",
       "      <td>The Other Boleyn Girl</td>\n",
       "      <td>Philippa Gregory</td>\n",
       "      <td>64495.0</td>\n",
       "    </tr>\n",
       "    <tr>\n",
       "      <th>17</th>\n",
       "      <td>2001</td>\n",
       "      <td>Someone Like You</td>\n",
       "      <td>Cathy Kelly</td>\n",
       "      <td>2363344.0</td>\n",
       "    </tr>\n",
       "    <tr>\n",
       "      <th>18</th>\n",
       "      <td>2000</td>\n",
       "      <td>Dancing In The Dark</td>\n",
       "      <td>Maureen Lee</td>\n",
       "      <td>5255514.0</td>\n",
       "    </tr>\n",
       "    <tr>\n",
       "      <th>19</th>\n",
       "      <td>1999</td>\n",
       "      <td>Learning To Swim</td>\n",
       "      <td>Clare Chambers</td>\n",
       "      <td>1689779.0</td>\n",
       "    </tr>\n",
       "    <tr>\n",
       "      <th>21</th>\n",
       "      <td>1997</td>\n",
       "      <td>The Hours Of The Night</td>\n",
       "      <td>Sue Gee</td>\n",
       "      <td>7877852.0</td>\n",
       "    </tr>\n",
       "    <tr>\n",
       "      <th>22</th>\n",
       "      <td>1996</td>\n",
       "      <td>Coming Home</td>\n",
       "      <td>Rosamunde Pilcher</td>\n",
       "      <td>328956.0</td>\n",
       "    </tr>\n",
       "    <tr>\n",
       "      <th>24</th>\n",
       "      <td>1994</td>\n",
       "      <td>Consider The Lily</td>\n",
       "      <td>Elizabeth Buchan</td>\n",
       "      <td>3427159.0</td>\n",
       "    </tr>\n",
       "    <tr>\n",
       "      <th>25</th>\n",
       "      <td>1993</td>\n",
       "      <td>Emily</td>\n",
       "      <td>Cynthia Harrod-Eagles</td>\n",
       "      <td>8038858.0</td>\n",
       "    </tr>\n",
       "    <tr>\n",
       "      <th>26</th>\n",
       "      <td>1992</td>\n",
       "      <td>Sandstorm</td>\n",
       "      <td>June Knox-Mawer</td>\n",
       "      <td>3789823.0</td>\n",
       "    </tr>\n",
       "    <tr>\n",
       "      <th>27</th>\n",
       "      <td>1991</td>\n",
       "      <td>Phantom</td>\n",
       "      <td>Susan Kay</td>\n",
       "      <td>92797.0</td>\n",
       "    </tr>\n",
       "    <tr>\n",
       "      <th>28</th>\n",
       "      <td>1990</td>\n",
       "      <td>Passing Glory</td>\n",
       "      <td>Reay Tannahill</td>\n",
       "      <td>5882480.0</td>\n",
       "    </tr>\n",
       "    <tr>\n",
       "      <th>30</th>\n",
       "      <td>1988</td>\n",
       "      <td>The Juniper Bush</td>\n",
       "      <td>Audrey Howard</td>\n",
       "      <td>8405713.0</td>\n",
       "    </tr>\n",
       "    <tr>\n",
       "      <th>32</th>\n",
       "      <td>1986</td>\n",
       "      <td>A Song Twice Over</td>\n",
       "      <td>Brenda Jagger</td>\n",
       "      <td>7309345.0</td>\n",
       "    </tr>\n",
       "    <tr>\n",
       "      <th>33</th>\n",
       "      <td>1985</td>\n",
       "      <td>Sunrise</td>\n",
       "      <td>Rosie Thomas</td>\n",
       "      <td>5904963.0</td>\n",
       "    </tr>\n",
       "    <tr>\n",
       "      <th>34</th>\n",
       "      <td>1984</td>\n",
       "      <td>A Highly Respectable Marriage</td>\n",
       "      <td>Sheila Walsh</td>\n",
       "      <td>7565601.0</td>\n",
       "    </tr>\n",
       "    <tr>\n",
       "      <th>35</th>\n",
       "      <td>1983</td>\n",
       "      <td>Magic Flutes</td>\n",
       "      <td>Eva Ibbotson</td>\n",
       "      <td>3929408.0</td>\n",
       "    </tr>\n",
       "    <tr>\n",
       "      <th>36</th>\n",
       "      <td>1982</td>\n",
       "      <td>Zemindar</td>\n",
       "      <td>Valerie Fitzgerald</td>\n",
       "      <td>2316166.0</td>\n",
       "    </tr>\n",
       "    <tr>\n",
       "      <th>37</th>\n",
       "      <td>1981</td>\n",
       "      <td>The Red Staircase</td>\n",
       "      <td>Gwendoline Butler</td>\n",
       "      <td>8433877.0</td>\n",
       "    </tr>\n",
       "    <tr>\n",
       "      <th>38</th>\n",
       "      <td>1980</td>\n",
       "      <td>Parson Harding's Daughter</td>\n",
       "      <td>Joanna Trollope</td>\n",
       "      <td>2314766.0</td>\n",
       "    </tr>\n",
       "    <tr>\n",
       "      <th>40</th>\n",
       "      <td>1979</td>\n",
       "      <td>The Emerald Peacock</td>\n",
       "      <td>Katharine Gordon</td>\n",
       "      <td>9245014.0</td>\n",
       "    </tr>\n",
       "    <tr>\n",
       "      <th>41</th>\n",
       "      <td>1979</td>\n",
       "      <td>Countess</td>\n",
       "      <td>Josephine Edgar</td>\n",
       "      <td>9918692.0</td>\n",
       "    </tr>\n",
       "    <tr>\n",
       "      <th>42</th>\n",
       "      <td>1978</td>\n",
       "      <td>Merlin's Keep</td>\n",
       "      <td>Madeleine Brent</td>\n",
       "      <td>927831.0</td>\n",
       "    </tr>\n",
       "    <tr>\n",
       "      <th>46</th>\n",
       "      <td>1976</td>\n",
       "      <td>The Moon Is Square</td>\n",
       "      <td>Margaret Maddocks</td>\n",
       "      <td>3112875.0</td>\n",
       "    </tr>\n",
       "    <tr>\n",
       "      <th>48</th>\n",
       "      <td>1974</td>\n",
       "      <td>The Burning Lamp</td>\n",
       "      <td>Frances Murray</td>\n",
       "      <td>3806244.0</td>\n",
       "    </tr>\n",
       "    <tr>\n",
       "      <th>49</th>\n",
       "      <td>1973</td>\n",
       "      <td>The House Of Kuragin</td>\n",
       "      <td>Constance Heaven</td>\n",
       "      <td>7488751.0</td>\n",
       "    </tr>\n",
       "    <tr>\n",
       "      <th>61</th>\n",
       "      <td>1961</td>\n",
       "      <td>The Witches Sabbath</td>\n",
       "      <td>Paula Allardyce</td>\n",
       "      <td>9498032.0</td>\n",
       "    </tr>\n",
       "    <tr>\n",
       "      <th>62</th>\n",
       "      <td>1960</td>\n",
       "      <td>More Than Friendship</td>\n",
       "      <td>Mary Howard</td>\n",
       "      <td>11576515.0</td>\n",
       "    </tr>\n",
       "  </tbody>\n",
       "</table>\n",
       "</div>"
      ],
      "text/plain": [
       "    Year                                          Title  \\\n",
       "0   2018                                      This Love   \n",
       "1   2017                                      Love Song   \n",
       "2   2016                            Letters to the Lost   \n",
       "3   2015                                         Struck   \n",
       "4   2014                  A Night on The Orient Express   \n",
       "5   2013  Welcome to Rosie Hopkin's Sweetshop of Dreams   \n",
       "6   2012                    Please Don't Stop The Music   \n",
       "7   2011                The Last Letter From Your Lover   \n",
       "8   2010                    Lost Dogs and Lonely Hearts   \n",
       "9   2009                                East of the Sun   \n",
       "10  2008                                    Pillow Talk   \n",
       "11  2007                                    Iris & Ruby   \n",
       "12  2006                             Gardens of Delight   \n",
       "14  2004                                  Foreign Fruit   \n",
       "15  2003                                  Playing James   \n",
       "16  2002                          The Other Boleyn Girl   \n",
       "17  2001                               Someone Like You   \n",
       "18  2000                            Dancing In The Dark   \n",
       "19  1999                               Learning To Swim   \n",
       "21  1997                         The Hours Of The Night   \n",
       "22  1996                                    Coming Home   \n",
       "24  1994                              Consider The Lily   \n",
       "25  1993                                          Emily   \n",
       "26  1992                                      Sandstorm   \n",
       "27  1991                                        Phantom   \n",
       "28  1990                                  Passing Glory   \n",
       "30  1988                               The Juniper Bush   \n",
       "32  1986                              A Song Twice Over   \n",
       "33  1985                                        Sunrise   \n",
       "34  1984                  A Highly Respectable Marriage   \n",
       "35  1983                                   Magic Flutes   \n",
       "36  1982                                       Zemindar   \n",
       "37  1981                              The Red Staircase   \n",
       "38  1980                      Parson Harding's Daughter   \n",
       "40  1979                            The Emerald Peacock   \n",
       "41  1979                                       Countess   \n",
       "42  1978                                  Merlin's Keep   \n",
       "46  1976                             The Moon Is Square   \n",
       "48  1974                               The Burning Lamp   \n",
       "49  1973                           The House Of Kuragin   \n",
       "61  1961                            The Witches Sabbath   \n",
       "62  1960                           More Than Friendship   \n",
       "\n",
       "                    Author  Amazon_Best_Sellers_Rank_in_Books  \n",
       "0              Dani Atkins                          1575630.0  \n",
       "1           Sophia Bennett                          3644709.0  \n",
       "2                Iona Grey                          1213247.0  \n",
       "3            Joss Stirling                          6451288.0  \n",
       "4           Veronica Henry                           994679.0  \n",
       "5             Jenny Colgan                           170712.0  \n",
       "6            Jane Lovering                          6991936.0  \n",
       "7               Jojo Moyes                            24172.0  \n",
       "8              Lucy Dillon                          1916757.0  \n",
       "9            Julia Gregson                           586184.0  \n",
       "10             Freya North                                0.0  \n",
       "11            Rosie Thomas                          1140912.0  \n",
       "12             Erica James                          2329744.0  \n",
       "14              Jojo Moyes                          1037547.0  \n",
       "15             Sarah Mason                          2407039.0  \n",
       "16        Philippa Gregory                            64495.0  \n",
       "17             Cathy Kelly                          2363344.0  \n",
       "18             Maureen Lee                          5255514.0  \n",
       "19          Clare Chambers                          1689779.0  \n",
       "21                 Sue Gee                          7877852.0  \n",
       "22       Rosamunde Pilcher                           328956.0  \n",
       "24        Elizabeth Buchan                          3427159.0  \n",
       "25   Cynthia Harrod-Eagles                          8038858.0  \n",
       "26         June Knox-Mawer                          3789823.0  \n",
       "27               Susan Kay                            92797.0  \n",
       "28          Reay Tannahill                          5882480.0  \n",
       "30           Audrey Howard                          8405713.0  \n",
       "32           Brenda Jagger                          7309345.0  \n",
       "33            Rosie Thomas                          5904963.0  \n",
       "34            Sheila Walsh                          7565601.0  \n",
       "35            Eva Ibbotson                          3929408.0  \n",
       "36      Valerie Fitzgerald                          2316166.0  \n",
       "37       Gwendoline Butler                          8433877.0  \n",
       "38         Joanna Trollope                          2314766.0  \n",
       "40        Katharine Gordon                          9245014.0  \n",
       "41         Josephine Edgar                          9918692.0  \n",
       "42         Madeleine Brent                           927831.0  \n",
       "46       Margaret Maddocks                          3112875.0  \n",
       "48          Frances Murray                          3806244.0  \n",
       "49        Constance Heaven                          7488751.0  \n",
       "61         Paula Allardyce                          9498032.0  \n",
       "62             Mary Howard                         11576515.0  "
      ]
     },
     "execution_count": 27,
     "metadata": {},
     "output_type": "execute_result"
    }
   ],
   "source": [
    "df_books = df_books.dropna()\n",
    "df_books"
   ]
  },
  {
   "cell_type": "code",
   "execution_count": null,
   "metadata": {},
   "outputs": [],
   "source": []
  },
  {
   "cell_type": "code",
   "execution_count": 28,
   "metadata": {},
   "outputs": [
    {
     "data": {
      "image/png": "[encoded data removed]",
      "text/plain": [
       "<Figure size 432x288 with 1 Axes>"
      ]
     },
     "metadata": {
      "needs_background": "light"
     },
     "output_type": "display_data"
    }
   ],
   "source": [
    "x = df_books['Year']\n",
    "y = df_books['Amazon_Best_Sellers_Rank_in_Books'].sort_values(ascending=True)\n",
    "plt.plot(x, y, color='black');"
   ]
  },
  {
   "cell_type": "code",
   "execution_count": 54,
   "metadata": {},
   "outputs": [
    {
     "data": {
      "text/html": [
       "<div>\n",
       "<style scoped>\n",
       "    .dataframe tbody tr th:only-of-type {\n",
       "        vertical-align: middle;\n",
       "    }\n",
       "\n",
       "    .dataframe tbody tr th {\n",
       "        vertical-align: top;\n",
       "    }\n",
       "\n",
       "    .dataframe thead th {\n",
       "        text-align: right;\n",
       "    }\n",
       "</style>\n",
       "<table border=\"1\" class=\"dataframe\">\n",
       "  <thead>\n",
       "    <tr style=\"text-align: right;\">\n",
       "      <th></th>\n",
       "      <th>5_Stars</th>\n",
       "      <th>Amazon_Best_Sellers_Rank_in_Books</th>\n",
       "    </tr>\n",
       "  </thead>\n",
       "  <tbody>\n",
       "    <tr>\n",
       "      <th>0</th>\n",
       "      <td>5</td>\n",
       "      <td>1575630</td>\n",
       "    </tr>\n",
       "    <tr>\n",
       "      <th>1</th>\n",
       "      <td>6</td>\n",
       "      <td>3644709</td>\n",
       "    </tr>\n",
       "    <tr>\n",
       "      <th>2</th>\n",
       "      <td>1</td>\n",
       "      <td>1213247</td>\n",
       "    </tr>\n",
       "  </tbody>\n",
       "</table>\n",
       "</div>"
      ],
      "text/plain": [
       "   5_Stars  Amazon_Best_Sellers_Rank_in_Books\n",
       "0        5                            1575630\n",
       "1        6                            3644709\n",
       "2        1                            1213247"
      ]
     },
     "execution_count": 54,
     "metadata": {},
     "output_type": "execute_result"
    }
   ],
   "source": [
    "top_3 = stars_amazon_rank.iloc[0:3,:]\n",
    "top_3.head()"
   ]
  },
  {
   "cell_type": "code",
   "execution_count": 62,
   "metadata": {},
   "outputs": [
    {
     "data": {
      "image/png": "[encoded data removed]",
      "text/plain": [
       "<Figure size 432x288 with 1 Axes>"
      ]
     },
     "metadata": {
      "needs_background": "light"
     },
     "output_type": "display_data"
    }
   ],
   "source": [
    "x = top_3['5_Stars'].sort_values(ascending=False)\n",
    "y = top_3['Amazon_Best_Sellers_Rank_in_Books'].sort_values(ascending=True)\n",
    "plt.ylabel('Amazon Best Sellers Rank for RNA Novels')\n",
    "plt.xlabel('# of 5 Star Reviews')\n",
    "plt.title('Amazon Best Seller Ranks Amongst the 3 Most Reviewed RNA Novels on Twitter')\n",
    "plt.scatter(x,y, color='black');"
   ]
  },
  {
   "cell_type": "code",
   "execution_count": 43,
   "metadata": {},
   "outputs": [
    {
     "data": {
      "image/png": "[encoded data removed]",
      "text/plain": [
       "<Figure size 432x288 with 1 Axes>"
      ]
     },
     "metadata": {
      "needs_background": "light"
     },
     "output_type": "display_data"
    }
   ],
   "source": [
    "df_books.plot.scatter(x = 'Year', y='Amazon_Best_Sellers_Rank_in_Books')\n",
    "plt.show()"
   ]
  },
  {
   "cell_type": "code",
   "execution_count": null,
   "metadata": {},
   "outputs": [],
   "source": []
  }
 ],
 "metadata": {
  "kernelspec": {
   "display_name": "is310-venv",
   "language": "python",
   "name": "is310-venv"
  },
  "language_info": {
   "codemirror_mode": {
    "name": "ipython",
    "version": 3
   },
   "file_extension": ".py",
   "mimetype": "text/x-python",
   "name": "python",
   "nbconvert_exporter": "python",
   "pygments_lexer": "ipython3",
   "version": "3.8.3"
  }
 },
 "nbformat": 4,
 "nbformat_minor": 4
}
