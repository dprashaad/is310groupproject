{
 "cells": [
  {
   "cell_type": "code",
   "execution_count": 1,
   "id": "f679a888",
   "metadata": {},
   "outputs": [],
   "source": [
    "import pandas as pd\n",
    "import matplotlib.pyplot as plt\n",
    "import seaborn as sns"
   ]
  },
  {
   "cell_type": "code",
   "execution_count": 2,
   "id": "d2fa9184",
   "metadata": {},
   "outputs": [
    {
     "name": "stderr",
     "output_type": "stream",
     "text": [
      "C:\\Users\\Dharra\\AppData\\Local\\Temp\\ipykernel_24840\\3743085291.py:3: SettingWithCopyWarning: \n",
      "A value is trying to be set on a copy of a slice from a DataFrame.\n",
      "Try using .loc[row_indexer,col_indexer] = value instead\n",
      "\n",
      "See the caveats in the documentation: https://pandas.pydata.org/pandas-docs/stable/user_guide/indexing.html#returning-a-view-versus-a-copy\n",
      "  graphing['Amazon Best Sellers Rank in Books'] = graphing['Amazon Best Sellers Rank in Books'].astype(int) # or str for string\n"
     ]
    }
   ],
   "source": [
    "metadata=pd.read_csv('listofbooks.csv', encoding='windows-1252')\n",
    "graphing=metadata[:13]\n",
    "graphing['Amazon Best Sellers Rank in Books'] = graphing['Amazon Best Sellers Rank in Books'].astype(int) # or str for string"
   ]
  },
  {
   "cell_type": "code",
   "execution_count": 3,
   "id": "de9eb7d3",
   "metadata": {},
   "outputs": [
    {
     "data": {
      "text/html": [
       "<div>\n",
       "<style scoped>\n",
       "    .dataframe tbody tr th:only-of-type {\n",
       "        vertical-align: middle;\n",
       "    }\n",
       "\n",
       "    .dataframe tbody tr th {\n",
       "        vertical-align: top;\n",
       "    }\n",
       "\n",
       "    .dataframe thead th {\n",
       "        text-align: right;\n",
       "    }\n",
       "</style>\n",
       "<table border=\"1\" class=\"dataframe\">\n",
       "  <thead>\n",
       "    <tr style=\"text-align: right;\">\n",
       "      <th></th>\n",
       "      <th>Year</th>\n",
       "      <th>Title</th>\n",
       "      <th>Author</th>\n",
       "      <th>Amazon Best Sellers Rank in Books</th>\n",
       "    </tr>\n",
       "  </thead>\n",
       "  <tbody>\n",
       "    <tr>\n",
       "      <th>0</th>\n",
       "      <td>2018</td>\n",
       "      <td>This Love</td>\n",
       "      <td>Dani Atkins</td>\n",
       "      <td>1575630</td>\n",
       "    </tr>\n",
       "    <tr>\n",
       "      <th>1</th>\n",
       "      <td>2017</td>\n",
       "      <td>Love Song</td>\n",
       "      <td>Sophia Bennett</td>\n",
       "      <td>3644709</td>\n",
       "    </tr>\n",
       "    <tr>\n",
       "      <th>2</th>\n",
       "      <td>2016</td>\n",
       "      <td>Letters to the Lost</td>\n",
       "      <td>Iona Grey</td>\n",
       "      <td>1213247</td>\n",
       "    </tr>\n",
       "    <tr>\n",
       "      <th>3</th>\n",
       "      <td>2015</td>\n",
       "      <td>Struck</td>\n",
       "      <td>Joss Stirling</td>\n",
       "      <td>6451288</td>\n",
       "    </tr>\n",
       "    <tr>\n",
       "      <th>4</th>\n",
       "      <td>2014</td>\n",
       "      <td>A Night on The Orient Express</td>\n",
       "      <td>Veronica Henry</td>\n",
       "      <td>994679</td>\n",
       "    </tr>\n",
       "    <tr>\n",
       "      <th>5</th>\n",
       "      <td>2013</td>\n",
       "      <td>Welcome to Rosie Hopkin's Sweetshop of Dreams</td>\n",
       "      <td>Jenny Colgan</td>\n",
       "      <td>170712</td>\n",
       "    </tr>\n",
       "    <tr>\n",
       "      <th>6</th>\n",
       "      <td>2012</td>\n",
       "      <td>Please Don't Stop The Music</td>\n",
       "      <td>Jane Lovering</td>\n",
       "      <td>6991936</td>\n",
       "    </tr>\n",
       "    <tr>\n",
       "      <th>7</th>\n",
       "      <td>2011</td>\n",
       "      <td>The Last Letter From Your Lover</td>\n",
       "      <td>Jojo Moyes</td>\n",
       "      <td>24172</td>\n",
       "    </tr>\n",
       "    <tr>\n",
       "      <th>8</th>\n",
       "      <td>2010</td>\n",
       "      <td>Lost Dogs and Lonely Hearts</td>\n",
       "      <td>Lucy Dillon</td>\n",
       "      <td>1916757</td>\n",
       "    </tr>\n",
       "    <tr>\n",
       "      <th>9</th>\n",
       "      <td>2009</td>\n",
       "      <td>East of the Sun</td>\n",
       "      <td>Julia Gregson</td>\n",
       "      <td>586184</td>\n",
       "    </tr>\n",
       "    <tr>\n",
       "      <th>10</th>\n",
       "      <td>2008</td>\n",
       "      <td>Pillow Talk</td>\n",
       "      <td>Freya North</td>\n",
       "      <td>0</td>\n",
       "    </tr>\n",
       "    <tr>\n",
       "      <th>11</th>\n",
       "      <td>2007</td>\n",
       "      <td>Iris &amp; Ruby</td>\n",
       "      <td>Rosie Thomas</td>\n",
       "      <td>1140912</td>\n",
       "    </tr>\n",
       "    <tr>\n",
       "      <th>12</th>\n",
       "      <td>2006</td>\n",
       "      <td>Gardens of Delight</td>\n",
       "      <td>Erica James</td>\n",
       "      <td>2329744</td>\n",
       "    </tr>\n",
       "  </tbody>\n",
       "</table>\n",
       "</div>"
      ],
      "text/plain": [
       "    Year                                          Title           Author  \\\n",
       "0   2018                                      This Love      Dani Atkins   \n",
       "1   2017                                      Love Song   Sophia Bennett   \n",
       "2   2016                            Letters to the Lost        Iona Grey   \n",
       "3   2015                                         Struck    Joss Stirling   \n",
       "4   2014                  A Night on The Orient Express   Veronica Henry   \n",
       "5   2013  Welcome to Rosie Hopkin's Sweetshop of Dreams     Jenny Colgan   \n",
       "6   2012                    Please Don't Stop The Music    Jane Lovering   \n",
       "7   2011                The Last Letter From Your Lover       Jojo Moyes   \n",
       "8   2010                    Lost Dogs and Lonely Hearts      Lucy Dillon   \n",
       "9   2009                                East of the Sun    Julia Gregson   \n",
       "10  2008                                    Pillow Talk      Freya North   \n",
       "11  2007                                    Iris & Ruby     Rosie Thomas   \n",
       "12  2006                             Gardens of Delight      Erica James   \n",
       "\n",
       "    Amazon Best Sellers Rank in Books  \n",
       "0                             1575630  \n",
       "1                             3644709  \n",
       "2                             1213247  \n",
       "3                             6451288  \n",
       "4                              994679  \n",
       "5                              170712  \n",
       "6                             6991936  \n",
       "7                               24172  \n",
       "8                             1916757  \n",
       "9                              586184  \n",
       "10                                  0  \n",
       "11                            1140912  \n",
       "12                            2329744  "
      ]
     },
     "execution_count": 3,
     "metadata": {},
     "output_type": "execute_result"
    }
   ],
   "source": [
    "graphing"
   ]
  },
  {
   "cell_type": "code",
   "execution_count": 4,
   "id": "302b7c1d",
   "metadata": {},
   "outputs": [
    {
     "name": "stderr",
     "output_type": "stream",
     "text": [
      "C:\\Users\\Dharra\\AppData\\Local\\Temp\\ipykernel_24840\\2735465846.py:1: SettingWithCopyWarning: \n",
      "A value is trying to be set on a copy of a slice from a DataFrame\n",
      "\n",
      "See the caveats in the documentation: https://pandas.pydata.org/pandas-docs/stable/user_guide/indexing.html#returning-a-view-versus-a-copy\n",
      "  graphing['Amazon Best Sellers Rank in Books'][10]=\"NaN\"\n"
     ]
    }
   ],
   "source": [
    "graphing['Amazon Best Sellers Rank in Books'][10]=\"NaN\""
   ]
  },
  {
   "cell_type": "code",
   "execution_count": 5,
   "id": "61458d8c",
   "metadata": {},
   "outputs": [
    {
     "data": {
      "text/plain": [
       "Text(0.5, 0, 'Year')"
      ]
     },
     "execution_count": 5,
     "metadata": {},
     "output_type": "execute_result"
    },
    {
     "data": {
      "image/png": "[encoded data removed]",
      "text/plain": [
       "<Figure size 432x288 with 1 Axes>"
      ]
     },
     "metadata": {
      "needs_background": "light"
     },
     "output_type": "display_data"
    }
   ],
   "source": [
    "plt.plot(graphing['Year'], graphing['Amazon Best Sellers Rank in Books'], 'o')\n",
    "plt.ylabel('BSR Rank in Millions')\n",
    "plt.xlabel('Year')"
   ]
  },
  {
   "cell_type": "code",
   "execution_count": 20,
   "id": "6c246860",
   "metadata": {},
   "outputs": [
    {
     "data": {
      "text/plain": [
       "<matplotlib.legend.Legend at 0x265493d42b0>"
      ]
     },
     "execution_count": 20,
     "metadata": {},
     "output_type": "execute_result"
    },
    {
     "data": {
      "image/png": "[encoded data removed]",
      "text/plain": [
       "<Figure size 432x288 with 1 Axes>"
      ]
     },
     "metadata": {
      "needs_background": "light"
     },
     "output_type": "display_data"
    }
   ],
   "source": [
    "sns.scatterplot(data=graphing, x='Year', y='Amazon Best Sellers Rank in Books', hue='Title')\n",
    "plt.xticks(rotation=90)\n",
    "plt.legend(bbox_to_anchor=(2,1))"
   ]
  },
  {
   "cell_type": "code",
   "execution_count": null,
   "id": "66f528b9",
   "metadata": {},
   "outputs": [],
   "source": []
  }
 ],
 "metadata": {
  "kernelspec": {
   "display_name": "Python 3 (ipykernel)",
   "language": "python",
   "name": "python3"
  },
  "language_info": {
   "codemirror_mode": {
    "name": "ipython",
    "version": 3
   },
   "file_extension": ".py",
   "mimetype": "text/x-python",
   "name": "python",
   "nbconvert_exporter": "python",
   "pygments_lexer": "ipython3",
   "version": "3.10.0"
  }
 },
 "nbformat": 4,
 "nbformat_minor": 5
}
